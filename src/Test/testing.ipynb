{
 "cells": [
  {
   "cell_type": "code",
   "execution_count": 1,
   "metadata": {},
   "outputs": [],
   "source": [
    "from Support_files.Database import *\n",
    "from Support_files.potholeDetectionProcess import *\n",
    "from ultralytics import YOLO\n",
    "import psycopg2\n",
    "from datetime import datetime, timezone\n",
    "import random"
   ]
  },
  {
   "cell_type": "code",
   "execution_count": 2,
   "metadata": {},
   "outputs": [],
   "source": [
    "model = YOLO('C:/Users/sanya/Programs/Python/Graphic_App_for_detect/Yolo_model/HolesChecker.pt')\n",
    "video_path = 'C:/Users/sanya/Programs/Python/Graphic_App_for_detect/Media/Video/pothole1.mp4'"
   ]
  },
  {
   "cell_type": "code",
   "execution_count": 24,
   "metadata": {},
   "outputs": [],
   "source": [
    "def detection_model():\n",
    "    results = model.track(source=video_path, show=False, stream=True)\n",
    "    for result in results:\n",
    "        frame = result.orig_img\n",
    "        \n",
    "        boxes_data = result.boxes.data.cpu().numpy()\n",
    "        print(boxes_data)\n",
    "        # boxes = \n",
    "        # confidence = result.boxes.conf.cpu().numpy()\n",
    "        # tracker_id = []\n",
    "        # if result.boxes.id is not None:\n",
    "        #     tracker_id = result.boxes.id.cpu().numpy().astype(int)\n",
    "        # labels = [f\"#{id} {conf:0.2f}\" \n",
    "        #           for id, conf\n",
    "        #           in zip(tracker_id, confidence)]\n",
    "\n",
    "        # for box, label in zip(boxes, labels):\n",
    "        #     frame = cv2.rectangle(frame, (box[0], box[1]), (box[2], box[3]), (0, 255, 0), 2)\n",
    "        #     frame = cv2.putText(\n",
    "        #         frame,\n",
    "        #         label,\n",
    "        #         (box[0], box[1]),\n",
    "        #         cv2.FONT_HERSHEY_SIMPLEX,\n",
    "        #         0.6,\n",
    "        #         (0, 0, 255),\n",
    "        #         2,\n",
    "        #     )\n",
    "        cv2.imshow(\"frame\", frame)\n",
    "\n",
    "        if cv2.waitKey(30) == 27:\n",
    "            break\n",
    "    cv2.destroyAllWindows()"
   ]
  },
  {
   "cell_type": "code",
   "execution_count": 25,
   "metadata": {},
   "outputs": [
    {
     "name": "stderr",
     "output_type": "stream",
     "text": [
      "\n",
      "video 1/1 (1/570) C:\\Users\\sanya\\Programs\\Python\\Graphic_App_for_detect\\Media\\Video\\pothole1.mp4: 384x640 (no detections), 315.1ms\n",
      "video 1/1 (2/570) C:\\Users\\sanya\\Programs\\Python\\Graphic_App_for_detect\\Media\\Video\\pothole1.mp4: 384x640 (no detections), 44.0ms\n"
     ]
    },
    {
     "name": "stdout",
     "output_type": "stream",
     "text": [
      "[]\n",
      "[]\n"
     ]
    },
    {
     "name": "stderr",
     "output_type": "stream",
     "text": [
      "video 1/1 (3/570) C:\\Users\\sanya\\Programs\\Python\\Graphic_App_for_detect\\Media\\Video\\pothole1.mp4: 384x640 (no detections), 37.5ms\n",
      "video 1/1 (4/570) C:\\Users\\sanya\\Programs\\Python\\Graphic_App_for_detect\\Media\\Video\\pothole1.mp4: 384x640 (no detections), 39.4ms\n"
     ]
    },
    {
     "name": "stdout",
     "output_type": "stream",
     "text": [
      "[]\n",
      "[]\n",
      "[]\n"
     ]
    },
    {
     "name": "stderr",
     "output_type": "stream",
     "text": [
      "video 1/1 (5/570) C:\\Users\\sanya\\Programs\\Python\\Graphic_App_for_detect\\Media\\Video\\pothole1.mp4: 384x640 (no detections), 35.7ms\n",
      "video 1/1 (6/570) C:\\Users\\sanya\\Programs\\Python\\Graphic_App_for_detect\\Media\\Video\\pothole1.mp4: 384x640 (no detections), 35.0ms\n",
      "video 1/1 (7/570) C:\\Users\\sanya\\Programs\\Python\\Graphic_App_for_detect\\Media\\Video\\pothole1.mp4: 384x640 (no detections), 36.9ms\n",
      "video 1/1 (8/570) C:\\Users\\sanya\\Programs\\Python\\Graphic_App_for_detect\\Media\\Video\\pothole1.mp4: 384x640 (no detections), 32.9ms\n"
     ]
    },
    {
     "name": "stdout",
     "output_type": "stream",
     "text": [
      "[]\n",
      "[]\n",
      "[]\n"
     ]
    },
    {
     "name": "stderr",
     "output_type": "stream",
     "text": [
      "video 1/1 (9/570) C:\\Users\\sanya\\Programs\\Python\\Graphic_App_for_detect\\Media\\Video\\pothole1.mp4: 384x640 (no detections), 40.9ms\n",
      "video 1/1 (10/570) C:\\Users\\sanya\\Programs\\Python\\Graphic_App_for_detect\\Media\\Video\\pothole1.mp4: 384x640 (no detections), 33.2ms\n"
     ]
    },
    {
     "name": "stdout",
     "output_type": "stream",
     "text": [
      "[]\n",
      "[]\n",
      "[]\n"
     ]
    },
    {
     "name": "stderr",
     "output_type": "stream",
     "text": [
      "video 1/1 (11/570) C:\\Users\\sanya\\Programs\\Python\\Graphic_App_for_detect\\Media\\Video\\pothole1.mp4: 384x640 (no detections), 32.9ms\n",
      "video 1/1 (12/570) C:\\Users\\sanya\\Programs\\Python\\Graphic_App_for_detect\\Media\\Video\\pothole1.mp4: 384x640 (no detections), 35.5ms\n",
      "video 1/1 (13/570) C:\\Users\\sanya\\Programs\\Python\\Graphic_App_for_detect\\Media\\Video\\pothole1.mp4: 384x640 (no detections), 32.6ms\n",
      "video 1/1 (14/570) C:\\Users\\sanya\\Programs\\Python\\Graphic_App_for_detect\\Media\\Video\\pothole1.mp4: 384x640 (no detections), 32.1ms\n"
     ]
    },
    {
     "name": "stdout",
     "output_type": "stream",
     "text": [
      "[]\n",
      "[]\n",
      "[]\n"
     ]
    },
    {
     "name": "stderr",
     "output_type": "stream",
     "text": [
      "video 1/1 (15/570) C:\\Users\\sanya\\Programs\\Python\\Graphic_App_for_detect\\Media\\Video\\pothole1.mp4: 384x640 (no detections), 32.4ms\n",
      "video 1/1 (16/570) C:\\Users\\sanya\\Programs\\Python\\Graphic_App_for_detect\\Media\\Video\\pothole1.mp4: 384x640 (no detections), 33.2ms\n"
     ]
    },
    {
     "name": "stdout",
     "output_type": "stream",
     "text": [
      "[]\n",
      "[]\n",
      "[]\n"
     ]
    },
    {
     "name": "stderr",
     "output_type": "stream",
     "text": [
      "video 1/1 (17/570) C:\\Users\\sanya\\Programs\\Python\\Graphic_App_for_detect\\Media\\Video\\pothole1.mp4: 384x640 (no detections), 32.1ms\n",
      "video 1/1 (18/570) C:\\Users\\sanya\\Programs\\Python\\Graphic_App_for_detect\\Media\\Video\\pothole1.mp4: 384x640 (no detections), 33.0ms\n",
      "video 1/1 (19/570) C:\\Users\\sanya\\Programs\\Python\\Graphic_App_for_detect\\Media\\Video\\pothole1.mp4: 384x640 1 0, 33.3ms\n"
     ]
    },
    {
     "name": "stdout",
     "output_type": "stream",
     "text": [
      "[]\n",
      "[[     118.36      164.49      251.58      261.23     0.15686           0]]\n"
     ]
    },
    {
     "name": "stderr",
     "output_type": "stream",
     "text": [
      "video 1/1 (20/570) C:\\Users\\sanya\\Programs\\Python\\Graphic_App_for_detect\\Media\\Video\\pothole1.mp4: 384x640 1 0, 32.1ms\n",
      "video 1/1 (21/570) C:\\Users\\sanya\\Programs\\Python\\Graphic_App_for_detect\\Media\\Video\\pothole1.mp4: 384x640 1 0, 33.5ms\n"
     ]
    },
    {
     "name": "stdout",
     "output_type": "stream",
     "text": [
      "[[     108.85       204.8      244.17      314.65     0.10619           0]]\n",
      "[[     99.805      247.96      243.26         360     0.14006           0]]\n",
      "[]\n"
     ]
    },
    {
     "name": "stderr",
     "output_type": "stream",
     "text": [
      "video 1/1 (22/570) C:\\Users\\sanya\\Programs\\Python\\Graphic_App_for_detect\\Media\\Video\\pothole1.mp4: 384x640 (no detections), 36.5ms\n",
      "video 1/1 (23/570) C:\\Users\\sanya\\Programs\\Python\\Graphic_App_for_detect\\Media\\Video\\pothole1.mp4: 384x640 (no detections), 37.7ms\n"
     ]
    },
    {
     "name": "stdout",
     "output_type": "stream",
     "text": [
      "[]\n",
      "[[     177.03       142.7      283.63      229.63     0.18294           0]]\n"
     ]
    },
    {
     "name": "stderr",
     "output_type": "stream",
     "text": [
      "video 1/1 (24/570) C:\\Users\\sanya\\Programs\\Python\\Graphic_App_for_detect\\Media\\Video\\pothole1.mp4: 384x640 1 0, 33.3ms\n",
      "video 1/1 (25/570) C:\\Users\\sanya\\Programs\\Python\\Graphic_App_for_detect\\Media\\Video\\pothole1.mp4: 384x640 3 0s, 32.7ms\n",
      "video 1/1 (26/570) C:\\Users\\sanya\\Programs\\Python\\Graphic_App_for_detect\\Media\\Video\\pothole1.mp4: 384x640 4 0s, 33.9ms\n"
     ]
    },
    {
     "name": "stdout",
     "output_type": "stream",
     "text": [
      "[[     171.61      171.24      285.31      277.12     0.58068           0]\n",
      " [     90.984      123.96      176.24      231.79     0.12877           0]\n",
      " [     401.76           0       454.3      27.359     0.11277           0]]\n",
      "[[      166.4      214.48      291.27      332.94     0.74996           0]\n",
      " [     410.11      1.6842      467.42      39.274     0.18777           0]\n",
      " [     227.73      122.16      421.82      213.08     0.16133           0]\n",
      " [     83.888      153.15      168.37         276     0.15467           0]]\n"
     ]
    },
    {
     "name": "stderr",
     "output_type": "stream",
     "text": [
      "video 1/1 (27/570) C:\\Users\\sanya\\Programs\\Python\\Graphic_App_for_detect\\Media\\Video\\pothole1.mp4: 384x640 3 0s, 34.5ms\n",
      "video 1/1 (28/570) C:\\Users\\sanya\\Programs\\Python\\Graphic_App_for_detect\\Media\\Video\\pothole1.mp4: 384x640 3 0s, 33.2ms\n"
     ]
    },
    {
     "name": "stdout",
     "output_type": "stream",
     "text": [
      "[[     171.28      268.59      291.51      359.02     0.34913           0]\n",
      " [     418.34      10.623      481.04      51.199     0.19303           0]\n",
      " [      73.72      189.88      162.94      323.53     0.17419           0]]\n",
      "[[     429.02      21.035      496.21      64.776     0.29143           0]\n",
      " [     156.29      73.538      237.56      163.56     0.12683           0]\n",
      " [     515.24      141.56      636.48      242.93     0.11431           0]]\n"
     ]
    },
    {
     "name": "stderr",
     "output_type": "stream",
     "text": [
      "video 1/1 (29/570) C:\\Users\\sanya\\Programs\\Python\\Graphic_App_for_detect\\Media\\Video\\pothole1.mp4: 384x640 4 0s, 34.5ms\n",
      "video 1/1 (30/570) C:\\Users\\sanya\\Programs\\Python\\Graphic_App_for_detect\\Media\\Video\\pothole1.mp4: 384x640 3 0s, 35.5ms\n"
     ]
    },
    {
     "name": "stdout",
     "output_type": "stream",
     "text": [
      "[[      149.6      88.958      234.86      194.98     0.44053           0]\n",
      " [     441.92       33.09      510.52      80.902      0.2641           0]\n",
      " [     93.372      219.84      181.28      302.16     0.17848           0]\n",
      " [     245.73      30.753      290.65       62.42     0.13983           0]]\n",
      "[[     137.39      109.71      233.42      231.08     0.49272           0]\n",
      " [     453.87      46.302      530.67      98.364     0.17307           0]\n",
      " [     245.45      41.306      294.15      76.839     0.17107           0]]\n"
     ]
    },
    {
     "name": "stderr",
     "output_type": "stream",
     "text": [
      "video 1/1 (31/570) C:\\Users\\sanya\\Programs\\Python\\Graphic_App_for_detect\\Media\\Video\\pothole1.mp4: 384x640 4 0s, 34.1ms\n",
      "video 1/1 (32/570) C:\\Users\\sanya\\Programs\\Python\\Graphic_App_for_detect\\Media\\Video\\pothole1.mp4: 384x640 1 0, 31.8ms\n"
     ]
    },
    {
     "name": "stdout",
     "output_type": "stream",
     "text": [
      "[[     132.59      141.69      232.75      276.78     0.61591           0]\n",
      " [     244.08      54.341      294.13       92.66     0.25597           0]\n",
      " [     534.06      188.87      637.56      307.85     0.10581           0]\n",
      " [     466.81      62.539      549.41      119.54     0.10338           0]]\n",
      "[[     120.82      166.51       233.2      327.95           2     0.68439           0]]\n"
     ]
    },
    {
     "name": "stderr",
     "output_type": "stream",
     "text": [
      "video 1/1 (33/570) C:\\Users\\sanya\\Programs\\Python\\Graphic_App_for_detect\\Media\\Video\\pothole1.mp4: 384x640 1 0, 35.0ms\n",
      "video 1/1 (34/570) C:\\Users\\sanya\\Programs\\Python\\Graphic_App_for_detect\\Media\\Video\\pothole1.mp4: 384x640 3 0s, 32.1ms\n"
     ]
    },
    {
     "name": "stdout",
     "output_type": "stream",
     "text": [
      "[[     113.18      203.78      230.38      362.44           2     0.52623           0]]\n",
      "[[     192.92       6.793       415.5      226.68      0.2964           0]\n",
      " [     176.56      35.697      276.42      109.66     0.15622           0]\n",
      " [     240.23      109.57      300.19      156.32     0.11912           0]]\n"
     ]
    },
    {
     "name": "stderr",
     "output_type": "stream",
     "text": [
      "video 1/1 (35/570) C:\\Users\\sanya\\Programs\\Python\\Graphic_App_for_detect\\Media\\Video\\pothole1.mp4: 384x640 4 0s, 37.8ms\n",
      "video 1/1 (36/570) C:\\Users\\sanya\\Programs\\Python\\Graphic_App_for_detect\\Media\\Video\\pothole1.mp4: 384x640 1 0, 33.4ms\n"
     ]
    },
    {
     "name": "stdout",
     "output_type": "stream",
     "text": [
      "[[     236.05       130.2      405.22      212.27     0.34759           0]\n",
      " [     230.21      25.523      415.93      229.67     0.11558           0]\n",
      " [     171.93      47.065      277.58      130.27      0.1098           0]\n",
      " [     442.76      91.727       546.5      160.15     0.10713           0]]\n",
      "[[     166.24       60.85      280.64      157.95     0.15892           0]]\n"
     ]
    },
    {
     "name": "stderr",
     "output_type": "stream",
     "text": [
      "video 1/1 (37/570) C:\\Users\\sanya\\Programs\\Python\\Graphic_App_for_detect\\Media\\Video\\pothole1.mp4: 384x640 4 0s, 48.1ms\n",
      "video 1/1 (38/570) C:\\Users\\sanya\\Programs\\Python\\Graphic_App_for_detect\\Media\\Video\\pothole1.mp4: 384x640 5 0s, 34.5ms\n"
     ]
    },
    {
     "name": "stdout",
     "output_type": "stream",
     "text": [
      "[[     235.35      194.36      324.91      287.85     0.44478           0]\n",
      " [     486.91      152.98      594.17       228.1     0.23107           0]\n",
      " [     161.02      76.398      281.53      182.82     0.20674           0]\n",
      " [     172.95      83.913      250.28      131.17      0.1394           0]]\n",
      "[[     239.43      235.72      335.45      339.39     0.55169           0]\n",
      " [     508.41      183.36      620.92      272.54     0.36834           0]\n",
      " [     156.46      100.26      251.48       161.1     0.14118           0]\n",
      " [     152.06      96.623      280.77      224.07     0.10294           0]\n",
      " [     166.08      104.42      247.76      153.35     0.10222           0]]\n"
     ]
    },
    {
     "name": "stderr",
     "output_type": "stream",
     "text": [
      "video 1/1 (39/570) C:\\Users\\sanya\\Programs\\Python\\Graphic_App_for_detect\\Media\\Video\\pothole1.mp4: 384x640 3 0s, 34.5ms\n"
     ]
    },
    {
     "name": "stdout",
     "output_type": "stream",
     "text": [
      "[[     534.42      228.34      639.44      320.98     0.33345           0]\n",
      " [     243.49      291.26      338.98      359.48     0.31419           0]\n",
      " [      154.3      122.31      250.54      190.02      0.3042           0]]\n",
      "[[     133.51      145.74      297.62      327.07     0.53173           0]\n",
      " [     144.02      148.67      249.02      225.16     0.30508           0]]\n"
     ]
    },
    {
     "name": "stderr",
     "output_type": "stream",
     "text": [
      "video 1/1 (40/570) C:\\Users\\sanya\\Programs\\Python\\Graphic_App_for_detect\\Media\\Video\\pothole1.mp4: 384x640 2 0s, 39.9ms\n",
      "video 1/1 (41/570) C:\\Users\\sanya\\Programs\\Python\\Graphic_App_for_detect\\Media\\Video\\pothole1.mp4: 384x640 2 0s, 36.7ms\n",
      "video 1/1 (42/570) C:\\Users\\sanya\\Programs\\Python\\Graphic_App_for_detect\\Media\\Video\\pothole1.mp4: 384x640 2 0s, 36.6ms\n"
     ]
    },
    {
     "name": "stdout",
     "output_type": "stream",
     "text": [
      "[[     130.49       177.1      247.38      278.73     0.42479           0]\n",
      " [      129.6      179.64      300.31         360     0.32953           0]]\n",
      "[[     117.97      212.61      252.73      334.57     0.42078           0]\n",
      " [     109.43      208.69      292.11      356.06     0.17381           0]]\n"
     ]
    },
    {
     "name": "stderr",
     "output_type": "stream",
     "text": [
      "video 1/1 (43/570) C:\\Users\\sanya\\Programs\\Python\\Graphic_App_for_detect\\Media\\Video\\pothole1.mp4: 384x640 2 0s, 36.8ms\n",
      "video 1/1 (44/570) C:\\Users\\sanya\\Programs\\Python\\Graphic_App_for_detect\\Media\\Video\\pothole1.mp4: 384x640 2 0s, 36.8ms\n"
     ]
    },
    {
     "name": "stdout",
     "output_type": "stream",
     "text": [
      "[[     191.51      49.897      437.51      222.44     0.53599           0]\n",
      " [     116.05      260.04      253.58      355.91     0.31891           0]]\n",
      "[[     181.15      51.575      447.75      257.81     0.28876           0]\n",
      " [     157.14      310.89      257.86         360     0.17503           0]]\n",
      "[]\n"
     ]
    },
    {
     "name": "stderr",
     "output_type": "stream",
     "text": [
      "video 1/1 (45/570) C:\\Users\\sanya\\Programs\\Python\\Graphic_App_for_detect\\Media\\Video\\pothole1.mp4: 384x640 (no detections), 36.0ms\n",
      "video 1/1 (46/570) C:\\Users\\sanya\\Programs\\Python\\Graphic_App_for_detect\\Media\\Video\\pothole1.mp4: 384x640 (no detections), 37.7ms\n",
      "video 1/1 (47/570) C:\\Users\\sanya\\Programs\\Python\\Graphic_App_for_detect\\Media\\Video\\pothole1.mp4: 384x640 3 0s, 36.6ms\n"
     ]
    },
    {
     "name": "stdout",
     "output_type": "stream",
     "text": [
      "[]\n",
      "[[     175.67      214.27      303.72      357.63      0.2278           0]\n",
      " [     209.92      107.85       426.9      213.39     0.11981           0]\n",
      " [      207.5      141.38      426.89      212.86     0.10825           0]]\n"
     ]
    },
    {
     "name": "stderr",
     "output_type": "stream",
     "text": [
      "video 1/1 (48/570) C:\\Users\\sanya\\Programs\\Python\\Graphic_App_for_detect\\Media\\Video\\pothole1.mp4: 384x640 (no detections), 40.2ms\n",
      "video 1/1 (49/570) C:\\Users\\sanya\\Programs\\Python\\Graphic_App_for_detect\\Media\\Video\\pothole1.mp4: 384x640 (no detections), 35.5ms\n",
      "video 1/1 (50/570) C:\\Users\\sanya\\Programs\\Python\\Graphic_App_for_detect\\Media\\Video\\pothole1.mp4: 384x640 (no detections), 39.4ms\n"
     ]
    },
    {
     "name": "stdout",
     "output_type": "stream",
     "text": [
      "[]\n",
      "[]\n",
      "[]\n"
     ]
    },
    {
     "name": "stderr",
     "output_type": "stream",
     "text": [
      "video 1/1 (51/570) C:\\Users\\sanya\\Programs\\Python\\Graphic_App_for_detect\\Media\\Video\\pothole1.mp4: 384x640 (no detections), 32.2ms\n"
     ]
    },
    {
     "name": "stdout",
     "output_type": "stream",
     "text": [
      "[]\n",
      "[[     51.105       2.043      388.95      268.44     0.27734           0]\n",
      " [     154.42      61.133      298.65      178.27     0.14721           0]]\n"
     ]
    },
    {
     "name": "stderr",
     "output_type": "stream",
     "text": [
      "video 1/1 (52/570) C:\\Users\\sanya\\Programs\\Python\\Graphic_App_for_detect\\Media\\Video\\pothole1.mp4: 384x640 2 0s, 35.0ms\n",
      "video 1/1 (53/570) C:\\Users\\sanya\\Programs\\Python\\Graphic_App_for_detect\\Media\\Video\\pothole1.mp4: 384x640 3 0s, 33.4ms\n",
      "video 1/1 (54/570) C:\\Users\\sanya\\Programs\\Python\\Graphic_App_for_detect\\Media\\Video\\pothole1.mp4: 384x640 3 0s, 36.9ms\n"
     ]
    },
    {
     "name": "stdout",
     "output_type": "stream",
     "text": [
      "[[     51.003           0      405.57      307.76     0.49277           0]\n",
      " [     149.11      79.874      302.61      206.97      0.4374           0]\n",
      " [     64.801      68.695      408.68      299.57     0.27899           0]]\n",
      "[[     138.13      100.26      311.03      253.95     0.62808           0]\n",
      " [     48.904           0         416      344.67     0.44218           0]\n",
      " [     51.129      94.303      417.03      337.42     0.11242           0]]\n"
     ]
    },
    {
     "name": "stderr",
     "output_type": "stream",
     "text": [
      "video 1/1 (55/570) C:\\Users\\sanya\\Programs\\Python\\Graphic_App_for_detect\\Media\\Video\\pothole1.mp4: 384x640 1 0, 32.6ms\n",
      "video 1/1 (56/570) C:\\Users\\sanya\\Programs\\Python\\Graphic_App_for_detect\\Media\\Video\\pothole1.mp4: 384x640 1 0, 33.4ms\n"
     ]
    },
    {
     "name": "stdout",
     "output_type": "stream",
     "text": [
      "[[     123.84       119.9      320.75      295.31           3     0.58339           0]]\n",
      "[[     86.723      149.65      323.41       338.1           3     0.47754           0]]\n"
     ]
    },
    {
     "name": "stderr",
     "output_type": "stream",
     "text": [
      "video 1/1 (57/570) C:\\Users\\sanya\\Programs\\Python\\Graphic_App_for_detect\\Media\\Video\\pothole1.mp4: 384x640 1 0, 37.0ms\n"
     ]
    },
    {
     "name": "stdout",
     "output_type": "stream",
     "text": [
      "[[     304.97      10.218      501.62         102     0.44427           0]]\n",
      "[[     309.75      15.411      520.16      128.81     0.40067           0]]\n"
     ]
    },
    {
     "name": "stderr",
     "output_type": "stream",
     "text": [
      "video 1/1 (58/570) C:\\Users\\sanya\\Programs\\Python\\Graphic_App_for_detect\\Media\\Video\\pothole1.mp4: 384x640 1 0, 39.2ms\n",
      "video 1/1 (59/570) C:\\Users\\sanya\\Programs\\Python\\Graphic_App_for_detect\\Media\\Video\\pothole1.mp4: 384x640 1 0, 33.9ms\n",
      "video 1/1 (60/570) C:\\Users\\sanya\\Programs\\Python\\Graphic_App_for_detect\\Media\\Video\\pothole1.mp4: 384x640 1 0, 41.0ms\n"
     ]
    },
    {
     "name": "stdout",
     "output_type": "stream",
     "text": [
      "[[     314.24      23.602      537.14      144.58     0.41516           0]]\n",
      "[[      310.6      30.704      556.43      187.14     0.30145           0]]\n"
     ]
    },
    {
     "name": "stderr",
     "output_type": "stream",
     "text": [
      "video 1/1 (61/570) C:\\Users\\sanya\\Programs\\Python\\Graphic_App_for_detect\\Media\\Video\\pothole1.mp4: 384x640 2 0s, 32.4ms\n",
      "video 1/1 (62/570) C:\\Users\\sanya\\Programs\\Python\\Graphic_App_for_detect\\Media\\Video\\pothole1.mp4: 384x640 1 0, 33.6ms\n"
     ]
    },
    {
     "name": "stdout",
     "output_type": "stream",
     "text": [
      "[[     313.89      50.249      578.88      218.85     0.47334           0]\n",
      " [     308.75      52.932      575.84      300.33     0.11828           0]]\n",
      "[[     326.84      64.566      603.47      268.61     0.69012           0]]\n"
     ]
    },
    {
     "name": "stderr",
     "output_type": "stream",
     "text": [
      "video 1/1 (63/570) C:\\Users\\sanya\\Programs\\Python\\Graphic_App_for_detect\\Media\\Video\\pothole1.mp4: 384x640 1 0, 38.4ms\n"
     ]
    },
    {
     "name": "stdout",
     "output_type": "stream",
     "text": [
      "[[     326.66      86.414      628.49      323.03           4     0.70652           0]]\n",
      "[[     331.82      114.81      641.93      354.78           4     0.70304           0]]\n"
     ]
    },
    {
     "name": "stderr",
     "output_type": "stream",
     "text": [
      "video 1/1 (64/570) C:\\Users\\sanya\\Programs\\Python\\Graphic_App_for_detect\\Media\\Video\\pothole1.mp4: 384x640 1 0, 42.8ms\n",
      "video 1/1 (65/570) C:\\Users\\sanya\\Programs\\Python\\Graphic_App_for_detect\\Media\\Video\\pothole1.mp4: 384x640 1 0, 33.9ms\n",
      "video 1/1 (66/570) C:\\Users\\sanya\\Programs\\Python\\Graphic_App_for_detect\\Media\\Video\\pothole1.mp4: 384x640 1 0, 33.7ms\n"
     ]
    },
    {
     "name": "stdout",
     "output_type": "stream",
     "text": [
      "[[      346.5      138.15      644.89      367.06           4     0.64151           0]]\n",
      "[[     364.29      170.08      643.44      369.57           4     0.64462           0]]\n"
     ]
    },
    {
     "name": "stderr",
     "output_type": "stream",
     "text": [
      "video 1/1 (67/570) C:\\Users\\sanya\\Programs\\Python\\Graphic_App_for_detect\\Media\\Video\\pothole1.mp4: 384x640 1 0, 35.4ms\n",
      "video 1/1 (68/570) C:\\Users\\sanya\\Programs\\Python\\Graphic_App_for_detect\\Media\\Video\\pothole1.mp4: 384x640 1 0, 36.4ms\n"
     ]
    },
    {
     "name": "stdout",
     "output_type": "stream",
     "text": [
      "[[     381.07      195.21      640.68      348.45           4     0.13171           0]]\n",
      "[[      394.5      224.96      638.68      358.32           4     0.14416           0]]\n"
     ]
    },
    {
     "name": "stderr",
     "output_type": "stream",
     "text": [
      "video 1/1 (69/570) C:\\Users\\sanya\\Programs\\Python\\Graphic_App_for_detect\\Media\\Video\\pothole1.mp4: 384x640 1 0, 44.6ms\n",
      "video 1/1 (70/570) C:\\Users\\sanya\\Programs\\Python\\Graphic_App_for_detect\\Media\\Video\\pothole1.mp4: 384x640 (no detections), 34.8ms\n"
     ]
    },
    {
     "name": "stdout",
     "output_type": "stream",
     "text": [
      "[[     207.39      149.87      395.09      212.01     0.14896           0]]\n",
      "[]\n",
      "[]\n"
     ]
    },
    {
     "name": "stderr",
     "output_type": "stream",
     "text": [
      "video 1/1 (71/570) C:\\Users\\sanya\\Programs\\Python\\Graphic_App_for_detect\\Media\\Video\\pothole1.mp4: 384x640 (no detections), 35.9ms\n",
      "video 1/1 (72/570) C:\\Users\\sanya\\Programs\\Python\\Graphic_App_for_detect\\Media\\Video\\pothole1.mp4: 384x640 (no detections), 35.6ms\n",
      "video 1/1 (73/570) C:\\Users\\sanya\\Programs\\Python\\Graphic_App_for_detect\\Media\\Video\\pothole1.mp4: 384x640 (no detections), 35.5ms\n",
      "video 1/1 (74/570) C:\\Users\\sanya\\Programs\\Python\\Graphic_App_for_detect\\Media\\Video\\pothole1.mp4: 384x640 (no detections), 33.8ms\n"
     ]
    },
    {
     "name": "stdout",
     "output_type": "stream",
     "text": [
      "[]\n",
      "[]\n",
      "[]\n"
     ]
    },
    {
     "name": "stderr",
     "output_type": "stream",
     "text": [
      "video 1/1 (75/570) C:\\Users\\sanya\\Programs\\Python\\Graphic_App_for_detect\\Media\\Video\\pothole1.mp4: 384x640 (no detections), 33.5ms\n",
      "video 1/1 (76/570) C:\\Users\\sanya\\Programs\\Python\\Graphic_App_for_detect\\Media\\Video\\pothole1.mp4: 384x640 (no detections), 34.8ms\n"
     ]
    },
    {
     "name": "stdout",
     "output_type": "stream",
     "text": [
      "[]\n",
      "[]\n",
      "[[      9.511           0      358.19      351.96     0.11751           0]]\n"
     ]
    }
   ],
   "source": [
    "detection_model()"
   ]
  },
  {
   "cell_type": "code",
   "execution_count": null,
   "metadata": {},
   "outputs": [],
   "source": []
  }
 ],
 "metadata": {
  "kernelspec": {
   "display_name": "Python 3",
   "language": "python",
   "name": "python3"
  },
  "language_info": {
   "codemirror_mode": {
    "name": "ipython",
    "version": 3
   },
   "file_extension": ".py",
   "mimetype": "text/x-python",
   "name": "python",
   "nbconvert_exporter": "python",
   "pygments_lexer": "ipython3",
   "version": "3.9.5"
  },
  "orig_nbformat": 4
 },
 "nbformat": 4,
 "nbformat_minor": 2
}
